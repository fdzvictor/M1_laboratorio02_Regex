{
 "cells": [
  {
   "cell_type": "markdown",
   "metadata": {},
   "source": [
    "<div style=\"text-align: center;\">\n",
    "  <img src=\"https://github.com/Hack-io-Data/Imagenes/blob/main/01-LogosHackio/logo_naranja@4x.png?raw=true\" alt=\"esquema\" />\n",
    "</div>"
   ]
  },
  {
   "cell_type": "markdown",
   "metadata": {},
   "source": [
    "# Laboratorio de Regex:"
   ]
  },
  {
   "cell_type": "markdown",
   "metadata": {},
   "source": [
    "### Ejercicio 1: Extracción de datos.\n",
    "\n",
    "Recuerda que necesitamos hacer importaciones antes de enfrentarnos a un problema. "
   ]
  },
  {
   "cell_type": "code",
   "execution_count": 1,
   "metadata": {},
   "outputs": [],
   "source": [
    "# Importaciones:\n",
    "## Para trabajar con expresiones regulares\n",
    "import re \n",
    "\n",
    "## Para contar las palabras de un texto \n",
    "from collections import Counter "
   ]
  },
  {
   "cell_type": "markdown",
   "metadata": {},
   "source": [
    "Dado el archivo `datos_artistas.txt` usa las **expresiones regulares** para extraer los siguientes datos, con el código que encontrarás en la siguiente celda:"
   ]
  },
  {
   "cell_type": "code",
   "execution_count": 8,
   "metadata": {},
   "outputs": [
    {
     "name": "stdout",
     "output_type": "stream",
     "text": [
      "How does it feel, ah how does it feel?\n",
      "To be on your own, with no direction home\n",
      "Like a complete unknown, like a rolling stone./TheBeatles contact@thebeatles.co.uk -44 234567890 http://thebeatles.co.uk Hey Jude - 7:11 1968 Hey Jude, don't make it bad.\n",
      "Take a sad song and make it better.\n",
      "Remember to let her into your heart,\n",
      "Then you can start to make it better.\n",
      "Hey Jude, don't be afraid.\n",
      "You were made to go out and get her.\n",
      "The minute you let her under your skin,\n",
      "Then you begin to make it better.\n",
      "And anytime you feel the pain, hey Jude, refrain,\n",
      "Don't carry the world upon your shoulders.\n",
      "For well you know that it's a fool who plays it cool\n",
      "By making his world a little colder.\n",
      "Hey Jude, don't let me down.\n",
      "You have found her, now go and get her.\n",
      "Remember to let her into your heart,\n",
      "Then you can start to make it better.\n",
      "So let it out and let it in, hey Jude, begin,\n",
      "You're waiting for someone to perform with.\n",
      "And don't you know that it's just you, hey Jude, you'll do,\n",
      "The movement you need \n"
     ]
    }
   ],
   "source": [
    "with open('Datos/datos_artistas.txt', 'r') as archivo:\n",
    "    contenido = archivo.read()\n",
    "    # Aquí puedes trabajar con el contenido del archivo\n",
    "\n",
    "print(contenido [2000:3000])"
   ]
  },
  {
   "cell_type": "markdown",
   "metadata": {},
   "source": [
    "#### 1.1 La información de cada artista(nombre, correo de contacto, número de contacto y sitio web)."
   ]
  },
  {
   "cell_type": "code",
   "execution_count": 271,
   "metadata": {},
   "outputs": [
    {
     "name": "stdout",
     "output_type": "stream",
     "text": [
      "['BobDylan', 'TheBeatles', 'EltonJohn', 'Queen', 'MichaelJackson', 'Madonna', 'DavidBowie', 'Nirvana', 'Adele', 'EdSheeran', 'Beyoncé', 'TaylorSwift', 'Rihanna', 'Drake', 'KanyeWest', 'BrunoMars', 'ArianaGrande', 'Shakira', 'Coldplay', 'LadyGaga']\n"
     ]
    }
   ],
   "source": [
    "canciones = r\"\\.\\/\"\n",
    "canciones_separadas = re.split(canciones,contenido)\n",
    "\n",
    "titulos = []\n",
    "\n",
    "patron_titulo = r\"\\w+\"\n",
    "for song in canciones_separadas:\n",
    " titulos.append(re.match(patron_titulo,song).group())\n",
    "\n",
    "print(titulos)\n",
    "\n",
    "patron_correo = r\"\\w+@\\w+\\.\\w+\\.?\\w+\"\n",
    "correos = (re.findall(patron_correo,contenido))\n",
    "\n",
    "patron_contacto = r\"-\\d+\\s\\d+\\S\"\n",
    "contacto = (re.findall(patron_contacto,contenido))\n",
    "\n",
    "\n",
    "patron_web = r\"https?://\\S+\"\n",
    "web = (re.findall(patron_web,contenido))\n"
   ]
  },
  {
   "cell_type": "markdown",
   "metadata": {},
   "source": [
    "#### 1.2 La información de cada canción(título, duración y fecha de lanzamiento)."
   ]
  },
  {
   "cell_type": "code",
   "execution_count": 288,
   "metadata": {},
   "outputs": [
    {
     "name": "stdout",
     "output_type": "stream",
     "text": [
      "[' Like a Rolling Stone ', ' Hey Jude ', ' Your Song ', ' Bohemian Rhapsody ', ' Billie Jean ', ' Like a Prayer ', ' Space Oddity ', ' Smells Like Teen Spirit ', ' Someone Like You ', ' Shape of You ', ' Halo ', ' Blank Space ', ' Diamonds ', ' Hotline Bling ', ' Stronger ', ' Uptown Funk ', ' 7 Rings ', \" Hips Don't Lie \", ' Yellow ', ' Bad Romance ']\n"
     ]
    }
   ],
   "source": [
    "patron_cancion = patron_web + r\"(.*)-\\s\"\n",
    "canciones = re.findall(patron_cancion,contenido)\n",
    "print(canciones)\n",
    "patron_duracion = r\"\\d{1,2}:\\d{1,2}\"\n",
    "duracion = re.findall(patron_duracion,contenido)\n",
    "\n",
    "patron_fecha = patron_duracion + r\".*(\\d{4})\"\n",
    "fecha_lanzamiento = re.findall(patron_fecha,contenido)\n"
   ]
  },
  {
   "cell_type": "markdown",
   "metadata": {},
   "source": [
    "#### 1.3 Almacena la información en una lista de diccionarios donde cada diccionario contenga los datos de un artista y su canción asociada."
   ]
  },
  {
   "cell_type": "code",
   "execution_count": 289,
   "metadata": {},
   "outputs": [
    {
     "name": "stdout",
     "output_type": "stream",
     "text": [
      "[{'Nombre': 'BobDylan', 'Correo': 'dylan@gmail.com', 'Contacto': '-1 123456789', 'Web': 'http://bobdylan.com', 'Titulo_Cancion': ' Like a Rolling Stone ', 'Duracion': '6:13', 'Fecha_Lanzamiento': '1965'}, {'Nombre': 'TheBeatles', 'Correo': 'contact@thebeatles.co.uk', 'Contacto': '-44 234567890', 'Web': 'http://thebeatles.co.uk', 'Titulo_Cancion': ' Hey Jude ', 'Duracion': '7:11', 'Fecha_Lanzamiento': '1968'}, {'Nombre': 'EltonJohn', 'Correo': 'john@hotmail.com', 'Contacto': '-34 345678901', 'Web': 'http://eltonjohn.com', 'Titulo_Cancion': ' Your Song ', 'Duracion': '4:01', 'Fecha_Lanzamiento': '1970'}, {'Nombre': 'Queen', 'Correo': 'info@queenonline.com', 'Contacto': '-23 456789012', 'Web': 'http://queenonline.com', 'Titulo_Cancion': ' Bohemian Rhapsody ', 'Duracion': '5:55', 'Fecha_Lanzamiento': '1975'}, {'Nombre': 'MichaelJackson', 'Correo': 'jackson@yahoo.com', 'Contacto': '-1 567890123', 'Web': 'http://michaeljackson.com', 'Titulo_Cancion': ' Billie Jean ', 'Duracion': '4:54', 'Fecha_Lanzamiento': '1982'}, {'Nombre': 'Madonna', 'Correo': 'madonna@madonna.com', 'Contacto': '-11 678901234', 'Web': 'http://madonna.com', 'Titulo_Cancion': ' Like a Prayer ', 'Duracion': '5:43', 'Fecha_Lanzamiento': '1989'}, {'Nombre': 'DavidBowie', 'Correo': 'bowie@outlook.com', 'Contacto': '-44 789012345', 'Web': 'http://davidbowie.com', 'Titulo_Cancion': ' Space Oddity ', 'Duracion': '5:18', 'Fecha_Lanzamiento': '1969'}, {'Nombre': 'Nirvana', 'Correo': 'contact@nirvana.com', 'Contacto': '-2 890123456', 'Web': 'http://nirvana.com', 'Titulo_Cancion': ' Smells Like Teen Spirit ', 'Duracion': '5:01', 'Fecha_Lanzamiento': '1991'}, {'Nombre': 'Adele', 'Correo': 'adele@adele.com', 'Contacto': '-44 901234567', 'Web': 'http://adele.com', 'Titulo_Cancion': ' Someone Like You ', 'Duracion': '4:45', 'Fecha_Lanzamiento': '2011'}, {'Nombre': 'EdSheeran', 'Correo': 'sheeran@gmail.com', 'Contacto': '-44 123456789', 'Web': 'http://edsheeran.com', 'Titulo_Cancion': ' Shape of You ', 'Duracion': '3:53', 'Fecha_Lanzamiento': '2017'}, {'Nombre': 'Beyoncé', 'Correo': 'beyonce@beyonce.com', 'Contacto': '-1 234567890', 'Web': 'http://beyonce.com', 'Titulo_Cancion': ' Halo ', 'Duracion': '4:21', 'Fecha_Lanzamiento': '2008'}, {'Nombre': 'TaylorSwift', 'Correo': 'swift@yahoo.com', 'Contacto': '-34 345678901', 'Web': 'http://taylorswift.com', 'Titulo_Cancion': ' Blank Space ', 'Duracion': '3:52', 'Fecha_Lanzamiento': '2014'}, {'Nombre': 'Rihanna', 'Correo': 'rihanna@hotmail.com', 'Contacto': '-1 456789012', 'Web': 'http://rihanna.com', 'Titulo_Cancion': ' Diamonds ', 'Duracion': '3:45', 'Fecha_Lanzamiento': '2012'}, {'Nombre': 'Drake', 'Correo': 'drake@drake.com', 'Contacto': '-54 567890123,', 'Web': 'http://drake.com', 'Titulo_Cancion': ' Hotline Bling ', 'Duracion': '4:27', 'Fecha_Lanzamiento': '2015'}, {'Nombre': 'KanyeWest', 'Correo': 'west@gmail.com', 'Contacto': '-13 678901234', 'Web': 'http://kanyewest.com', 'Titulo_Cancion': ' Stronger ', 'Duracion': '5:12', 'Fecha_Lanzamiento': '2007'}, {'Nombre': 'BrunoMars', 'Correo': 'mars@outlook.com', 'Contacto': '-1 789012345', 'Web': 'https://brunomars.com', 'Titulo_Cancion': ' Uptown Funk ', 'Duracion': '4:30', 'Fecha_Lanzamiento': '2014'}, {'Nombre': 'ArianaGrande', 'Correo': 'grande@yahoo.com', 'Contacto': '-23 890123456', 'Web': 'https://arianagrande.com', 'Titulo_Cancion': ' 7 Rings ', 'Duracion': '2:58', 'Fecha_Lanzamiento': '2019'}, {'Nombre': 'Shakira', 'Correo': 'shakira@hotmail.com', 'Contacto': '-57 123456789,', 'Web': 'http://shakira.com', 'Titulo_Cancion': \" Hips Don't Lie \", 'Duracion': '3:38', 'Fecha_Lanzamiento': '2006'}, {'Nombre': 'Coldplay', 'Correo': 'info@coldplay.com', 'Contacto': '-57 234567890', 'Web': 'http://coldplay.com', 'Titulo_Cancion': ' Yellow ', 'Duracion': '4:26', 'Fecha_Lanzamiento': '2000'}, {'Nombre': 'LadyGaga', 'Correo': 'gaga@gmail.com', 'Contacto': '-34 345678901', 'Web': 'https://ladygaga.com', 'Titulo_Cancion': ' Bad Romance ', 'Duracion': '4:54', 'Fecha_Lanzamiento': '2009'}]\n"
     ]
    }
   ],
   "source": [
    "keys = ('Nombres', 'Correos', 'Contacto', 'Web')\n",
    "claves = ()\n",
    "\n",
    "artistas = list(map(lambda titulos, correos, contacto, web, cancion, duracion, fecha_lanzamiento: {'Nombre': titulos, 'Correo': correos, 'Contacto': contacto, 'Web': web, 'Titulo_Cancion': cancion, 'Duracion': duracion, 'Fecha_Lanzamiento': fecha_lanzamiento}, titulos, correos, contacto, web, canciones, duracion, fecha_lanzamiento))\n",
    "print(artistas)"
   ]
  },
  {
   "cell_type": "markdown",
   "metadata": {},
   "source": [
    "### Ejercicio 2: Análisis de datos\n",
    "Usa las **expresiones regulares** para extraer la siguiente información:"
   ]
  },
  {
   "cell_type": "markdown",
   "metadata": {},
   "source": [
    "#### 2.1 Busca la palabra más repetida en el texto completo.\n"
   ]
  },
  {
   "cell_type": "code",
   "execution_count": 256,
   "metadata": {},
   "outputs": [
    {
     "data": {
      "text/plain": [
       "[('I', 496)]"
      ]
     },
     "execution_count": 256,
     "metadata": {},
     "output_type": "execute_result"
    }
   ],
   "source": [
    "patron_counter = r\"\\b\\w+\\b\"\n",
    "palabra_repetida = re.findall(patron_counter, contenido)\n",
    "\n",
    "palabra_repetida = Counter(palabra_repetida)\n",
    "palabra_repetida.most_common(1)\n"
   ]
  },
  {
   "cell_type": "markdown",
   "metadata": {},
   "source": [
    "#### 2.2 Busca la palabra que más repetida en cada cación.\n"
   ]
  },
  {
   "cell_type": "code",
   "execution_count": 263,
   "metadata": {},
   "outputs": [
    {
     "data": {
      "text/plain": [
       "[('I', 496)]"
      ]
     },
     "execution_count": 263,
     "metadata": {},
     "output_type": "execute_result"
    }
   ],
   "source": [
    "def contar (c):\n",
    " patron_counter = r\"\\b\\w+\\b\"\n",
    " palabra_repetida = re.findall(patron_counter, c)\n",
    "\n",
    " palabra_repetida = Counter(palabra_repetida)\n",
    " return palabra_repetida.most_common(1)\n"
   ]
  },
  {
   "cell_type": "code",
   "execution_count": 264,
   "metadata": {},
   "outputs": [
    {
     "name": "stdout",
     "output_type": "stream",
     "text": [
      "[('you', 27)]\n",
      "[('it', 13)]\n",
      "[('I', 22)]\n",
      "[('me', 17)]\n",
      "[('the', 34)]\n",
      "[('a', 47)]\n",
      "[('I', 10)]\n",
      "[('hello', 24)]\n",
      "[('I', 27)]\n",
      "[('I', 54)]\n",
      "[('halo', 67)]\n",
      "[('I', 31)]\n",
      "[('like', 38)]\n",
      "[('you', 26)]\n",
      "[('I', 56)]\n",
      "[('do', 53)]\n",
      "[('I', 56)]\n",
      "[('I', 24)]\n",
      "[('you', 20)]\n",
      "[('oh', 127)]\n"
     ]
    }
   ],
   "source": [
    "\n",
    "for song in canciones_separadas:\n",
    " print(contar(song))"
   ]
  },
  {
   "cell_type": "markdown",
   "metadata": {},
   "source": [
    "#### 2.3 Busca el nombre de la canción que más dura.\n"
   ]
  },
  {
   "cell_type": "code",
   "execution_count": 364,
   "metadata": {},
   "outputs": [
    {
     "name": "stdout",
     "output_type": "stream",
     "text": [
      "TheBeatles\n",
      "7:11\n"
     ]
    }
   ],
   "source": [
    "gran_duracion = max(re.findall(patron_duracion,contenido))\n",
    "\n",
    "for x in artistas:\n",
    "    if x['Duracion'] == gran_duracion:\n",
    "     print (x['Nombre'])\n",
    "     print (x['Duracion']) \n",
    "\n",
    "\n"
   ]
  },
  {
   "cell_type": "markdown",
   "metadata": {},
   "source": [
    "#### 2.4 Busca el nombre de la canción que menos dura."
   ]
  },
  {
   "cell_type": "code",
   "execution_count": 363,
   "metadata": {},
   "outputs": [
    {
     "name": "stdout",
     "output_type": "stream",
     "text": [
      "ArianaGrande\n",
      "2:58\n"
     ]
    }
   ],
   "source": [
    "poca_duracion = min(re.findall(patron_duracion,contenido))\n",
    "\n",
    "for x in artistas:\n",
    "    if x['Duracion'] == poca_duracion:\n",
    "     print (x['Nombre'])\n",
    "     print (x['Duracion']) "
   ]
  },
  {
   "cell_type": "markdown",
   "metadata": {},
   "source": [
    "#### 2.5 Busca el nombre y la fecha de lanzamiento de la canción más actual."
   ]
  },
  {
   "cell_type": "code",
   "execution_count": 350,
   "metadata": {},
   "outputs": [
    {
     "name": "stdout",
     "output_type": "stream",
     "text": [
      "ArianaGrande\n",
      "2019\n"
     ]
    }
   ],
   "source": [
    "max_fecha = max(re.findall(patron_fecha,contenido))\n",
    "\n",
    "for x in artistas:\n",
    "    if x['Fecha_Lanzamiento'] == max_fecha:\n",
    "     print (x['Nombre'])\n",
    "     print (x['Fecha_Lanzamiento']) "
   ]
  },
  {
   "cell_type": "markdown",
   "metadata": {},
   "source": [
    "#### 2.6 Calcula la cantidad de países a partir de los números de contacto."
   ]
  },
  {
   "cell_type": "code",
   "execution_count": 362,
   "metadata": {},
   "outputs": [
    {
     "name": "stdout",
     "output_type": "stream",
     "text": [
      "hay 18 países\n"
     ]
    }
   ],
   "source": [
    "contactos_unicos = set(re.findall(patron_contacto,contenido))\n",
    "\n",
    "print(f\"Hay {contactos_unicos.__len__()} países\")\n"
   ]
  },
  {
   "cell_type": "markdown",
   "metadata": {},
   "source": [
    "#### 2.7 Agrupa las canciones por década."
   ]
  },
  {
   "cell_type": "code",
   "execution_count": 423,
   "metadata": {},
   "outputs": [
    {
     "name": "stdout",
     "output_type": "stream",
     "text": [
      "{'BobDylan': 1960, 'TheBeatles': 1960, 'EltonJohn': 1970, 'Queen': 1970, 'MichaelJackson': 1980, 'Madonna': 1980, 'DavidBowie': 1960, 'Nirvana': 1990, 'Adele': 2010, 'EdSheeran': 2010, 'Beyoncé': 2000, 'TaylorSwift': 2010, 'Rihanna': 2010, 'Drake': 2010, 'KanyeWest': 2000, 'BrunoMars': 2010, 'ArianaGrande': 2010, 'Shakira': 2000, 'Coldplay': 2000, 'LadyGaga': 2000}\n"
     ]
    }
   ],
   "source": [
    "lista_fechas = (re.findall(patron_fecha,contenido))\n",
    "\n",
    "decada_redondeada = []\n",
    "\n",
    "for x in lista_fechas:\n",
    "    x = int(x) \n",
    "    decada_redondeada.append ((x // 10) *10)\n",
    "\n",
    "\n",
    "\n",
    "diccionario = dict(zip(titulos,decada_redondeada))\n",
    "\n",
    "\n",
    "\n",
    "print (diccionario)\n",
    " \n",
    " \n",
    "\n",
    "\n",
    "\n",
    "\n",
    "\n",
    "\n"
   ]
  },
  {
   "cell_type": "code",
   "execution_count": null,
   "metadata": {},
   "outputs": [],
   "source": []
  }
 ],
 "metadata": {
  "kernelspec": {
   "display_name": "envpruebas",
   "language": "python",
   "name": "python3"
  },
  "language_info": {
   "codemirror_mode": {
    "name": "ipython",
    "version": 3
   },
   "file_extension": ".py",
   "mimetype": "text/x-python",
   "name": "python",
   "nbconvert_exporter": "python",
   "pygments_lexer": "ipython3",
   "version": "3.11.7"
  }
 },
 "nbformat": 4,
 "nbformat_minor": 2
}
